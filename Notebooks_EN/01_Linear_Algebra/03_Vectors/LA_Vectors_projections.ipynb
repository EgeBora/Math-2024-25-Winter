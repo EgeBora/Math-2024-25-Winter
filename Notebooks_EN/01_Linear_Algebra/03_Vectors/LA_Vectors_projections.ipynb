{
  "cells": [
    {
      "cell_type": "markdown",
      "metadata": {
        "id": "AMoRurzbhDqU"
      },
      "source": [
        "# Vectors - Projections and Divisions\n",
        "\n",
        "\n",
        "## Projecting a Vector onto Another Vector\n",
        "\n",
        "Projecting vector $\\mathbf{a}$ onto axis $\\mathbf{b}$ involves finding the component of vector $\\mathbf{a}$ along the direction of $\\mathbf{b}$.\n",
        "\n",
        "Projection of $\\mathbf{a}$ onto $\\mathbf{b}$:\n",
        "\n",
        "$$\n",
        "\\text{Proj}_{\\mathbf{b}} \\mathbf{a} = \\frac{\\mathbf{a} \\cdot \\mathbf{b}}{|\\mathbf{b}|^2} \\mathbf{b}\n",
        "$$\n",
        "\n",
        "\n",
        "## Projecting a Vector onto Axes\n",
        "\n",
        "Projecting vector $\\mathbf{a}$ onto an axis involves finding the component of vector $\\mathbf{a}$ along that axis.\n",
        "\n",
        "Projection of $\\mathbf{a}$ onto the $OX$ axis:\n",
        "\n",
        "$$\n",
        "\\text{Proj}_{OX} \\mathbf{a} = \\frac{\\mathbf{a} \\cdot \\mathbf{i}}{|\\mathbf{i}|^2} \\mathbf{i} = \\frac{\\mathbf{a} \\cdot \\mathbf{i}}{1} \\mathbf{i} = (\\mathbf{a} \\cdot \\mathbf{i}) \\mathbf{i}\n",
        "$$\n",
        "\n",
        "Projection of $\\mathbf{a}$ onto the $OY$ axis:\n",
        "\n",
        "$$\n",
        "\\text{Proj}_{OY} \\mathbf{a} = \\frac{\\mathbf{a} \\cdot \\mathbf{j}}{|\\mathbf{j}|^2} \\mathbf{j} = \\frac{\\mathbf{a} \\cdot \\mathbf{j}}{1} \\mathbf{j} = (\\mathbf{a} \\cdot \\mathbf{j}) \\mathbf{j}\n",
        "$$\n",
        "\n",
        "Recall that $\\mathbf{i} = (1, 0)$ and $\\mathbf{j} = (0, 1)$ are unit vectors along the $OX$ and $OY$ axes.\n",
        "\n",
        "\n",
        "## Dividing a Line Segment in a Given Ratio\n",
        "\n",
        "A line segment is defined by two points in space.\n",
        "\n",
        "Line segments and vectors are closely related because a line segment connecting two points can be treated as a vector directed from one point to another.\n",
        "\n",
        "If point \\( P \\) divides the line segment connecting points $A(x_1, y_1)$ and $B(x_2, y_2)$ in the ratio $m:n$, then the coordinates of point $P$ can be found using the formula:\n",
        "\n",
        "$$\n",
        "P = \\left(\\frac{n \\times x_2 + m \\times x_1}{m+n}, \\frac{n \\times y_2 + m \\times y_1}{m+n}\\right)\n",
        "$$\n",
        "\n",
        "**Example:**\n",
        "\n",
        "Given a line segment connecting points $A(1, 2)$ and $B(3, 8)$, find point $P$ that divides the segment in the ratio 2:3.\n",
        "\n",
        "Coordinates of point $P$:\n",
        "$$\n",
        "P = \\left(\\frac{2 \\times 3 + 3 \\times 1}{2+3}, \\frac{2 \\times 8 + 3 \\times 2}{2+3}\\right) = \\left(\\frac{9}{5}, \\frac{22}{5}\\right)\n",
        "$$"
      ]
    },
    {
      "cell_type": "code",
      "execution_count": 4,
      "metadata": {
        "id": "-rVLgUAmhDqW",
        "outputId": "e490eaa5-2f66-478c-d3fe-ed0d87a05285",
        "colab": {
          "base_uri": "https://localhost:8080/"
        }
      },
      "outputs": [
        {
          "output_type": "stream",
          "name": "stdout",
          "text": [
            "1. Projection of vector a onto b: [1.85714286 3.71428571 5.57142857]\n",
            "\n",
            "2. Projection of vector a onto the x-axis: [3 0 0]\n",
            "   Projection of vector a onto the y-axis: [0 4 0]\n",
            "   Projection of vector a onto the z-axis: [0 0 5]\n",
            "\n",
            "3. Point dividing the line segment in ratio 2:3: [4.4 3.8]\n"
          ]
        }
      ],
      "source": [
        "import numpy as np\n",
        "\n",
        "# 1. Projecting a vector onto another vector\n",
        "a = np.array([3, 4, 5])  # Vector a\n",
        "b = np.array([1, 2, 3])  # Vector b\n",
        "\n",
        "# Projection of a onto b\n",
        "proj_a_on_b = (np.dot(a, b) / np.linalg.norm(b)**2) * b\n",
        "print(\"1. Projection of vector a onto b:\", proj_a_on_b)\n",
        "\n",
        "# 2. Projecting a vector onto the axes\n",
        "# Projection onto the x-axis\n",
        "proj_a_on_x = np.array([a[0], 0, 0])\n",
        "print(\"\\n2. Projection of vector a onto the x-axis:\", proj_a_on_x)\n",
        "\n",
        "# Projection onto the y-axis\n",
        "proj_a_on_y = np.array([0, a[1], 0])\n",
        "print(\"   Projection of vector a onto the y-axis:\", proj_a_on_y)\n",
        "\n",
        "# Projection onto the z-axis\n",
        "proj_a_on_z = np.array([0, 0, a[2]])\n",
        "print(\"   Projection of vector a onto the z-axis:\", proj_a_on_z)\n",
        "\n",
        "# 3. Dividing a line segment in a given ratio\n",
        "A = np.array([2, 3])  # Point A\n",
        "B = np.array([8, 5])  # Point B\n",
        "m, n = 2, 3  # Ratio\n",
        "\n",
        "# Coordinates of point P\n",
        "P = (m * B + n * A) / (m + n)\n",
        "print(\"\\n3. Point dividing the line segment in ratio 2:3:\", P)\n"
      ]
    },
    {
      "cell_type": "raw",
      "metadata": {
        "id": "fdxtl-5JhDqY"
      },
      "source": [
        "---"
      ]
    },
    {
      "cell_type": "markdown",
      "metadata": {
        "id": "e7WPKAN3hDqY"
      },
      "source": []
    }
  ],
  "metadata": {
    "kernelspec": {
      "display_name": ".venv",
      "language": "python",
      "name": "python3"
    },
    "language_info": {
      "codemirror_mode": {
        "name": "ipython",
        "version": 3
      },
      "file_extension": ".py",
      "mimetype": "text/x-python",
      "name": "python",
      "nbconvert_exporter": "python",
      "pygments_lexer": "ipython3",
      "version": "3.11.9"
    },
    "colab": {
      "provenance": []
    }
  },
  "nbformat": 4,
  "nbformat_minor": 0
}